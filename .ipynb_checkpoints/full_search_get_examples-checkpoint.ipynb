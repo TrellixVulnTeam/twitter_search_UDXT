{
 "cells": [
  {
   "cell_type": "code",
   "execution_count": null,
   "metadata": {},
   "outputs": [],
   "source": [
    "%matplotlib inline"
   ]
  },
  {
   "cell_type": "code",
   "execution_count": null,
   "metadata": {},
   "outputs": [],
   "source": [
    "import os\n",
    "import sys\n",
    "import json\n",
    "import bz2\n",
    "import seaborn\n",
    "import pandas as pd\n",
    "from unicode_codes import EMOJI_UNICODE\n",
    "from twitter_search_funcs import *\n",
    "from timeit import default_timer as timer"
   ]
  },
  {
   "cell_type": "code",
   "execution_count": null,
   "metadata": {},
   "outputs": [],
   "source": [
    "data_path = \"/your/data/path/archive-twitter-2016-08/\""
   ]
  },
  {
   "cell_type": "code",
   "execution_count": null,
   "metadata": {},
   "outputs": [],
   "source": [
    "# Character pairs to match\n",
    "match0 = EMOJI_UNICODE[':pistol:']\n",
    "match1 = EMOJI_UNICODE[':face_without_mouth:'] + EMOJI_UNICODE[':pistol:']\n",
    "match2 = EMOJI_UNICODE[':upside-down_face:'] + EMOJI_UNICODE[':pistol:']\n",
    "match3 = EMOJI_UNICODE[':police_officer:'] + EMOJI_UNICODE[':pistol:']\n",
    "match4 = EMOJI_UNICODE[':pistol:'] + EMOJI_UNICODE[':police_officer:']\n",
    "match5 = EMOJI_UNICODE[':kitchen_knife:'] + EMOJI_UNICODE[':pistol:']\n",
    "match6 = EMOJI_UNICODE[':rooster:'] + EMOJI_UNICODE[':pistol:']\n",
    "match7 = EMOJI_UNICODE[':collision:'] + EMOJI_UNICODE[':pistol:']"
   ]
  },
  {
   "cell_type": "code",
   "execution_count": null,
   "metadata": {},
   "outputs": [],
   "source": [
    "match = match7"
   ]
  },
  {
   "cell_type": "code",
   "execution_count": null,
   "metadata": {},
   "outputs": [],
   "source": [
    "# Counters\n",
    "counter_total_tweets = 0\n",
    "counter_examples = 0"
   ]
  },
  {
   "cell_type": "code",
   "execution_count": null,
   "metadata": {},
   "outputs": [],
   "source": [
    "max_examples = 100"
   ]
  },
  {
   "cell_type": "code",
   "execution_count": null,
   "metadata": {},
   "outputs": [],
   "source": [
    "# Main search loop\n",
    "start_t = timer()\n",
    "for day in range(0, 1):\n",
    "    day_str = \"{:02d}\".format(day + 1)\n",
    "    for hour in range(7, 9):\n",
    "        hour_str = \"{:02d}\".format(hour)\n",
    "        file_path = os.path.join(data_path, day_str, hour_str)\n",
    "        files = os.listdir(file_path)\n",
    "        for i, f in enumerate(files):\n",
    "            fbz = bz2.BZ2File(os.path.join(file_path, f), 'rb')\n",
    "            try:\n",
    "                fdec = fbz.read()\n",
    "            except IOError:\n",
    "                continue\n",
    "            finally:\n",
    "                fbz.close()\n",
    "            fdecutf = fdec.decode('utf-8')\n",
    "\n",
    "            for t in fdecutf.split('\\n'):\n",
    "                try:\n",
    "                    tweet = json.loads(t)\n",
    "                except (ValueError):\n",
    "                    continue\n",
    "                if 'delete' in tweet.keys():\n",
    "                    continue\n",
    "                counter_total_tweets += 1\n",
    "                if (match in tweet['text']) and (tweet['lang'] == 'en'):\n",
    "                    counter_examples += 1\n",
    "                    print(counter_examples)\n",
    "                    print(tweet['text'])\n",
    "                    print('\\n')\n",
    "                if counter_examples >= max_examples:\n",
    "                    break\n",
    "            else:\n",
    "                continue\n",
    "            break\n",
    "        else:\n",
    "            continue\n",
    "        break\n",
    "    else:\n",
    "        continue\n",
    "    break\n",
    "end_t = timer()"
   ]
  },
  {
   "cell_type": "code",
   "execution_count": null,
   "metadata": {},
   "outputs": [],
   "source": [
    "# Print outputs\n",
    "print(\"Elapsed Time    : {:.2f} min\".format((end_t - start_t) / 60))\n",
    "print(\"Total Tweets    : {:d}\".format(counter_total_tweets))\n",
    "print(\"Total Examples  : {:d}\".format(counter_examples))"
   ]
  },
  {
   "cell_type": "code",
   "execution_count": null,
   "metadata": {},
   "outputs": [],
   "source": []
  }
 ],
 "metadata": {
  "kernelspec": {
   "display_name": "Python 3",
   "language": "python",
   "name": "python3"
  },
  "language_info": {
   "codemirror_mode": {
    "name": "ipython",
    "version": 3
   },
   "file_extension": ".py",
   "mimetype": "text/x-python",
   "name": "python",
   "nbconvert_exporter": "python",
   "pygments_lexer": "ipython3",
   "version": "3.6.4"
  },
  "varInspector": {
   "cols": {
    "lenName": 16,
    "lenType": 16,
    "lenVar": 40
   },
   "kernels_config": {
    "python": {
     "delete_cmd_postfix": "",
     "delete_cmd_prefix": "del ",
     "library": "var_list.py",
     "varRefreshCmd": "print(var_dic_list())"
    },
    "r": {
     "delete_cmd_postfix": ") ",
     "delete_cmd_prefix": "rm(",
     "library": "var_list.r",
     "varRefreshCmd": "cat(var_dic_list()) "
    }
   },
   "types_to_exclude": [
    "module",
    "function",
    "builtin_function_or_method",
    "instance",
    "_Feature"
   ],
   "window_display": false
  }
 },
 "nbformat": 4,
 "nbformat_minor": 2
}
