{
 "cells": [
  {
   "cell_type": "code",
   "execution_count": 1,
   "metadata": {},
   "outputs": [],
   "source": [
    "%matplotlib inline"
   ]
  },
  {
   "cell_type": "code",
   "execution_count": 2,
   "metadata": {},
   "outputs": [],
   "source": [
    "import os\n",
    "import sys\n",
    "import json\n",
    "import bz2\n",
    "import seaborn\n",
    "import pandas as pd\n",
    "from unicode_codes import EMOJI_UNICODE\n",
    "from twitter_search_funcs import *\n",
    "from timeit import default_timer as timer"
   ]
  },
  {
   "cell_type": "code",
   "execution_count": 3,
   "metadata": {},
   "outputs": [],
   "source": [
    "#data_path = \"/your/data/path/archive-twitter-2016-08/\"\n",
    "data_path = \"/Volumes/Media HD/Downloads/archive-twitter-2016-08\""
   ]
  },
  {
   "cell_type": "code",
   "execution_count": 4,
   "metadata": {},
   "outputs": [],
   "source": [
    "# Character pairs to match\n",
    "matchlist = []\n",
    "matchlist.append(EMOJI_UNICODE[':pistol:'])\n",
    "matchlist.append(EMOJI_UNICODE[':face_without_mouth:'] + EMOJI_UNICODE[':pistol:'])\n",
    "matchlist.append(EMOJI_UNICODE[':upside-down_face:'] + EMOJI_UNICODE[':pistol:'])\n",
    "matchlist.append(EMOJI_UNICODE[':police_officer:'] + EMOJI_UNICODE[':pistol:'])\n",
    "matchlist.append(EMOJI_UNICODE[':pistol:'] + EMOJI_UNICODE[':police_officer:'])\n",
    "matchlist.append(EMOJI_UNICODE[':kitchen_knife:'] + EMOJI_UNICODE[':pistol:'] + EMOJI_UNICODE[':bomb:'])\n",
    "matchlist.append(EMOJI_UNICODE[':rooster:'] + EMOJI_UNICODE[':pistol:'])\n",
    "matchlist.append(EMOJI_UNICODE[':collision:'] + EMOJI_UNICODE[':pistol:'])\n",
    "matchlist.append(EMOJI_UNICODE[':broken_heart:'] + EMOJI_UNICODE[':pistol:'])"
   ]
  },
  {
   "cell_type": "code",
   "execution_count": 5,
   "metadata": {},
   "outputs": [
    {
     "data": {
      "text/plain": [
       "['🔫', '😶🔫', '🙃🔫', '👮🔫', '🔫👮', '🔪🔫💣', '🐓🔫', '💥🔫', '💔🔫']"
      ]
     },
     "execution_count": 5,
     "metadata": {},
     "output_type": "execute_result"
    }
   ],
   "source": [
    "matchlist"
   ]
  },
  {
   "cell_type": "code",
   "execution_count": 6,
   "metadata": {},
   "outputs": [],
   "source": [
    "# Counters\n",
    "counter_total_tweets = 0\n",
    "counter_examples = {m:0 for m in matchlist}\n",
    "max_examples = 200"
   ]
  },
  {
   "cell_type": "code",
   "execution_count": null,
   "metadata": {},
   "outputs": [],
   "source": [
    "# Main search loop\n",
    "start_t = timer()\n",
    "for day in range(0, 31):\n",
    "    day_str = \"{:02d}\".format(day + 1)\n",
    "    for hour in range(0, 24):\n",
    "        hour_str = \"{:02d}\".format(hour)\n",
    "        file_path = os.path.join(data_path, day_str, hour_str)\n",
    "        files = os.listdir(file_path)\n",
    "        for i, f in enumerate(files):\n",
    "            fbz = bz2.BZ2File(os.path.join(file_path, f), 'rb')\n",
    "            try:\n",
    "                fdec = fbz.read()\n",
    "            except IOError:\n",
    "                continue\n",
    "            finally:\n",
    "                fbz.close()\n",
    "            fdecutf = fdec.decode('utf-8')\n",
    "\n",
    "            for t in fdecutf.split('\\n'):\n",
    "                try:\n",
    "                    tweet = json.loads(t)\n",
    "                except (ValueError):\n",
    "                    continue\n",
    "                if 'delete' in tweet.keys():\n",
    "                    continue\n",
    "                if 'lang' not in tweet.keys():\n",
    "                    continue\n",
    "                counter_total_tweets += 1\n",
    "                for match in matchlist:\n",
    "                    if (match in tweet['text']) and \\\n",
    "                        (tweet['lang'] == 'en') and \\\n",
    "                        (counter_examples[match] < max_examples):\n",
    "                        counter_examples[match] += 1\n",
    "                        with open('./data/examples_{}.txt'.format(match), 'a') as outfile:\n",
    "                            outfile.write(str(counter_examples[match]))\n",
    "                            outfile.write('\\n')\n",
    "                            outfile.write(tweet['text'])\n",
    "                            outfile.write('\\n\\n')\n",
    "                if sum(list(counter_examples.values())) >= max_examples * len(matchlist):\n",
    "                    break\n",
    "            else:\n",
    "                continue\n",
    "            break\n",
    "        else:\n",
    "            continue\n",
    "        break\n",
    "    else:\n",
    "        continue\n",
    "    break\n",
    "end_t = timer()"
   ]
  },
  {
   "cell_type": "code",
   "execution_count": null,
   "metadata": {},
   "outputs": [],
   "source": [
    "# Print outputs\n",
    "print(\"Elapsed Time    : {:.2f} min\".format((end_t - start_t) / 60))\n",
    "print(\"Total Tweets    : {:d}\".format(counter_total_tweets))\n",
    "print(counter_examples)"
   ]
  },
  {
   "cell_type": "code",
   "execution_count": null,
   "metadata": {},
   "outputs": [],
   "source": []
  }
 ],
 "metadata": {
  "kernelspec": {
   "display_name": "Python 3",
   "language": "python",
   "name": "python3"
  },
  "language_info": {
   "codemirror_mode": {
    "name": "ipython",
    "version": 3
   },
   "file_extension": ".py",
   "mimetype": "text/x-python",
   "name": "python",
   "nbconvert_exporter": "python",
   "pygments_lexer": "ipython3",
   "version": "3.6.4"
  },
  "varInspector": {
   "cols": {
    "lenName": 16,
    "lenType": 16,
    "lenVar": 40
   },
   "kernels_config": {
    "python": {
     "delete_cmd_postfix": "",
     "delete_cmd_prefix": "del ",
     "library": "var_list.py",
     "varRefreshCmd": "print(var_dic_list())"
    },
    "r": {
     "delete_cmd_postfix": ") ",
     "delete_cmd_prefix": "rm(",
     "library": "var_list.r",
     "varRefreshCmd": "cat(var_dic_list()) "
    }
   },
   "types_to_exclude": [
    "module",
    "function",
    "builtin_function_or_method",
    "instance",
    "_Feature"
   ],
   "window_display": false
  }
 },
 "nbformat": 4,
 "nbformat_minor": 2
}
